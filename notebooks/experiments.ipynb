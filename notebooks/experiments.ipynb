{
 "cells": [
  {
   "cell_type": "code",
   "execution_count": 1,
   "metadata": {},
   "outputs": [],
   "source": [
    "import datasets"
   ]
  },
  {
   "cell_type": "code",
   "execution_count": 2,
   "metadata": {},
   "outputs": [],
   "source": [
    "from datasets import load_dataset_builder, get_dataset_config_names, load_dataset\n"
   ]
  },
  {
   "cell_type": "code",
   "execution_count": 3,
   "metadata": {},
   "outputs": [
    {
     "name": "stdout",
     "output_type": "stream",
     "text": [
      "{1: None, 2: None, 3: None, 4: None, 5: None, 6: None, 7: None, 8: None, 9: None, 10: None, 11: None, 12: None, 13: None, 14: None, 15: None, 16: None, 17: None, 18: None, 19: None, 20: None}\n",
      "{1: {'categories': ['alt', 'atheism'], 'config_name': '19997_alt.atheism'}, 2: {'categories': ['comp', 'graphics'], 'config_name': '19997_comp.graphics'}, 3: {'categories': ['comp', 'os', 'ms-windows', 'misc'], 'config_name': '19997_comp.os.ms-windows.misc'}, 4: {'categories': ['comp', 'sys', 'ibm', 'pc', 'hardware'], 'config_name': '19997_comp.sys.ibm.pc.hardware'}, 5: {'categories': ['comp', 'sys', 'mac', 'hardware'], 'config_name': '19997_comp.sys.mac.hardware'}, 6: {'categories': ['comp', 'windows', 'x'], 'config_name': '19997_comp.windows.x'}, 7: {'categories': ['misc', 'forsale'], 'config_name': '19997_misc.forsale'}, 8: {'categories': ['rec', 'autos'], 'config_name': '19997_rec.autos'}, 9: {'categories': ['rec', 'motorcycles'], 'config_name': '19997_rec.motorcycles'}, 10: {'categories': ['rec', 'sport', 'baseball'], 'config_name': '19997_rec.sport.baseball'}, 11: {'categories': ['rec', 'sport', 'hockey'], 'config_name': '19997_rec.sport.hockey'}, 12: {'categories': ['sci', 'crypt'], 'config_name': '19997_sci.crypt'}, 13: {'categories': ['sci', 'electronics'], 'config_name': '19997_sci.electronics'}, 14: {'categories': ['sci', 'med'], 'config_name': '19997_sci.med'}, 15: {'categories': ['sci', 'space'], 'config_name': '19997_sci.space'}, 16: {'categories': ['soc', 'religion', 'christian'], 'config_name': '19997_soc.religion.christian'}, 17: {'categories': ['talk', 'politics', 'guns'], 'config_name': '19997_talk.politics.guns'}, 18: {'categories': ['talk', 'politics', 'mideast'], 'config_name': '19997_talk.politics.mideast'}, 19: {'categories': ['talk', 'politics', 'misc'], 'config_name': '19997_talk.politics.misc'}, 20: {'categories': ['talk', 'religion', 'misc'], 'config_name': '19997_talk.religion.misc'}}\n"
     ]
    }
   ],
   "source": [
    "\n",
    "newsgroup_configs = get_dataset_config_names(\"newsgroup\")\n",
    "newsgroup_configs = [x for x in newsgroup_configs if x.startswith('19997')]\n",
    "# print((newsgroup_configs))\n",
    "\n",
    "metadata = dict.fromkeys(range(1,21))\n",
    "print(metadata)\n",
    "\n",
    "\n",
    "for i, d in enumerate(newsgroup_configs):\n",
    "    categories = d[6:].split('.')\n",
    "    config_name = d\n",
    "    metadata[i + 1] = {'categories': categories, 'config_name': config_name}\n",
    "# dataset_builder = load_dataset_builder('newsgroup', '18828_alt.atheism')\n",
    "# print(dataset_builder.info.features)\n",
    "\n",
    "print(metadata)"
   ]
  },
  {
   "cell_type": "code",
   "execution_count": 4,
   "metadata": {},
   "outputs": [
    {
     "name": "stderr",
     "output_type": "stream",
     "text": [
      "Reusing dataset newsgroups (/Users/pranavr/.cache/huggingface/datasets/newsgroups/19997_alt.atheism/1.0.0/6bd488abf01031de3388f1985d075f079a7132de6f39adff3d7abe04d797ef8a)\n",
      "100%|██████████| 1/1 [00:00<00:00, 80.78it/s]\n",
      "Reusing dataset newsgroups (/Users/pranavr/.cache/huggingface/datasets/newsgroups/19997_comp.graphics/1.0.0/6bd488abf01031de3388f1985d075f079a7132de6f39adff3d7abe04d797ef8a)\n",
      "100%|██████████| 1/1 [00:00<00:00, 65.70it/s]\n",
      "Reusing dataset newsgroups (/Users/pranavr/.cache/huggingface/datasets/newsgroups/19997_comp.os.ms-windows.misc/1.0.0/6bd488abf01031de3388f1985d075f079a7132de6f39adff3d7abe04d797ef8a)\n",
      "100%|██████████| 1/1 [00:00<00:00, 103.70it/s]\n",
      "Reusing dataset newsgroups (/Users/pranavr/.cache/huggingface/datasets/newsgroups/19997_comp.sys.ibm.pc.hardware/1.0.0/6bd488abf01031de3388f1985d075f079a7132de6f39adff3d7abe04d797ef8a)\n",
      "100%|██████████| 1/1 [00:00<00:00, 353.47it/s]\n",
      "Reusing dataset newsgroups (/Users/pranavr/.cache/huggingface/datasets/newsgroups/19997_comp.sys.mac.hardware/1.0.0/6bd488abf01031de3388f1985d075f079a7132de6f39adff3d7abe04d797ef8a)\n",
      "100%|██████████| 1/1 [00:00<00:00, 211.59it/s]\n",
      "Reusing dataset newsgroups (/Users/pranavr/.cache/huggingface/datasets/newsgroups/19997_comp.windows.x/1.0.0/6bd488abf01031de3388f1985d075f079a7132de6f39adff3d7abe04d797ef8a)\n",
      "100%|██████████| 1/1 [00:00<00:00, 245.34it/s]\n",
      "Reusing dataset newsgroups (/Users/pranavr/.cache/huggingface/datasets/newsgroups/19997_misc.forsale/1.0.0/6bd488abf01031de3388f1985d075f079a7132de6f39adff3d7abe04d797ef8a)\n",
      "100%|██████████| 1/1 [00:00<00:00, 101.98it/s]\n",
      "Reusing dataset newsgroups (/Users/pranavr/.cache/huggingface/datasets/newsgroups/19997_rec.autos/1.0.0/6bd488abf01031de3388f1985d075f079a7132de6f39adff3d7abe04d797ef8a)\n",
      "100%|██████████| 1/1 [00:00<00:00, 16.14it/s]\n",
      "Reusing dataset newsgroups (/Users/pranavr/.cache/huggingface/datasets/newsgroups/19997_rec.motorcycles/1.0.0/6bd488abf01031de3388f1985d075f079a7132de6f39adff3d7abe04d797ef8a)\n",
      "100%|██████████| 1/1 [00:00<00:00, 30.17it/s]\n",
      "Reusing dataset newsgroups (/Users/pranavr/.cache/huggingface/datasets/newsgroups/19997_rec.sport.baseball/1.0.0/6bd488abf01031de3388f1985d075f079a7132de6f39adff3d7abe04d797ef8a)\n",
      "100%|██████████| 1/1 [00:00<00:00, 112.32it/s]\n",
      "Reusing dataset newsgroups (/Users/pranavr/.cache/huggingface/datasets/newsgroups/19997_rec.sport.hockey/1.0.0/6bd488abf01031de3388f1985d075f079a7132de6f39adff3d7abe04d797ef8a)\n",
      "100%|██████████| 1/1 [00:00<00:00, 105.49it/s]\n",
      "Reusing dataset newsgroups (/Users/pranavr/.cache/huggingface/datasets/newsgroups/19997_sci.crypt/1.0.0/6bd488abf01031de3388f1985d075f079a7132de6f39adff3d7abe04d797ef8a)\n",
      "100%|██████████| 1/1 [00:00<00:00, 200.60it/s]\n",
      "Reusing dataset newsgroups (/Users/pranavr/.cache/huggingface/datasets/newsgroups/19997_sci.electronics/1.0.0/6bd488abf01031de3388f1985d075f079a7132de6f39adff3d7abe04d797ef8a)\n",
      "100%|██████████| 1/1 [00:00<00:00, 128.37it/s]\n",
      "Reusing dataset newsgroups (/Users/pranavr/.cache/huggingface/datasets/newsgroups/19997_sci.med/1.0.0/6bd488abf01031de3388f1985d075f079a7132de6f39adff3d7abe04d797ef8a)\n",
      "100%|██████████| 1/1 [00:00<00:00, 124.33it/s]\n",
      "Reusing dataset newsgroups (/Users/pranavr/.cache/huggingface/datasets/newsgroups/19997_sci.space/1.0.0/6bd488abf01031de3388f1985d075f079a7132de6f39adff3d7abe04d797ef8a)\n",
      "100%|██████████| 1/1 [00:00<00:00, 19.29it/s]\n",
      "Reusing dataset newsgroups (/Users/pranavr/.cache/huggingface/datasets/newsgroups/19997_soc.religion.christian/1.0.0/6bd488abf01031de3388f1985d075f079a7132de6f39adff3d7abe04d797ef8a)\n",
      "100%|██████████| 1/1 [00:00<00:00, 131.85it/s]\n",
      "Reusing dataset newsgroups (/Users/pranavr/.cache/huggingface/datasets/newsgroups/19997_talk.politics.guns/1.0.0/6bd488abf01031de3388f1985d075f079a7132de6f39adff3d7abe04d797ef8a)\n",
      "100%|██████████| 1/1 [00:00<00:00, 333.12it/s]\n",
      "Reusing dataset newsgroups (/Users/pranavr/.cache/huggingface/datasets/newsgroups/19997_talk.politics.mideast/1.0.0/6bd488abf01031de3388f1985d075f079a7132de6f39adff3d7abe04d797ef8a)\n",
      "100%|██████████| 1/1 [00:00<00:00, 63.04it/s]\n",
      "Reusing dataset newsgroups (/Users/pranavr/.cache/huggingface/datasets/newsgroups/19997_talk.politics.misc/1.0.0/6bd488abf01031de3388f1985d075f079a7132de6f39adff3d7abe04d797ef8a)\n",
      "100%|██████████| 1/1 [00:00<00:00, 48.47it/s]\n",
      "Reusing dataset newsgroups (/Users/pranavr/.cache/huggingface/datasets/newsgroups/19997_talk.religion.misc/1.0.0/6bd488abf01031de3388f1985d075f079a7132de6f39adff3d7abe04d797ef8a)\n",
      "100%|██████████| 1/1 [00:00<00:00, 32.87it/s]\n"
     ]
    }
   ],
   "source": [
    "data = dict.fromkeys(range(1,21))\n",
    "\n",
    "for i in range(1,21):\n",
    "    data[i] = load_dataset('newsgroup', metadata[i]['config_name'])"
   ]
  },
  {
   "cell_type": "code",
   "execution_count": 5,
   "metadata": {},
   "outputs": [],
   "source": [
    "X_train = []\n",
    "y_train = []\n",
    "for k, v in data.items():\n",
    "    for text in v['train']:\n",
    "        # print(text['text'])\n",
    "        X_train.append(text['text'])\n",
    "        y_train.append(k)"
   ]
  },
  {
   "cell_type": "code",
   "execution_count": 9,
   "id": "13460526",
   "metadata": {},
   "outputs": [
    {
     "data": {
      "text/plain": [
       "19997"
      ]
     },
     "execution_count": 9,
     "metadata": {},
     "output_type": "execute_result"
    }
   ],
   "source": [
    "len(X_train)"
   ]
  },
  {
   "cell_type": "code",
   "execution_count": 12,
   "id": "0a509a61",
   "metadata": {},
   "outputs": [
    {
     "name": "stderr",
     "output_type": "stream",
     "text": [
      "[nltk_data] Downloading package stopwords to\n",
      "[nltk_data]     /Users/pranavr/nltk_data...\n",
      "[nltk_data]   Unzipping corpora/stopwords.zip.\n"
     ]
    },
    {
     "data": {
      "text/plain": [
       "True"
      ]
     },
     "execution_count": 12,
     "metadata": {},
     "output_type": "execute_result"
    }
   ],
   "source": [
    "import nltk; nltk.download('stopwords')"
   ]
  },
  {
   "cell_type": "code",
   "execution_count": null,
   "id": "43b5f829",
   "metadata": {},
   "outputs": [],
   "source": []
  }
 ],
 "metadata": {
  "interpreter": {
   "hash": "8b8334dab9339717f727a1deaf837b322d7a41c20d15cc86be99a8e69ceec8ce"
  },
  "kernelspec": {
   "display_name": "Python 3.8.12 64-bit ('3.8.12': pyenv)",
   "name": "python3"
  },
  "language_info": {
   "codemirror_mode": {
    "name": "ipython",
    "version": 3
   },
   "file_extension": ".py",
   "mimetype": "text/x-python",
   "name": "python",
   "nbconvert_exporter": "python",
   "pygments_lexer": "ipython3",
   "version": "3.6.9"
  }
 },
 "nbformat": 4,
 "nbformat_minor": 5
}
