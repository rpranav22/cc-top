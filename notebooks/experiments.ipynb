{
 "cells": [
  {
   "cell_type": "code",
   "execution_count": 1,
   "metadata": {},
   "outputs": [],
   "source": [
    "import datasets"
   ]
  },
  {
   "cell_type": "code",
   "execution_count": 22,
   "metadata": {},
   "outputs": [],
   "source": [
    "from datasets import load_dataset_builder, get_dataset_config_names, load_dataset\n"
   ]
  },
  {
   "cell_type": "code",
   "execution_count": 21,
   "metadata": {},
   "outputs": [
    {
     "name": "stdout",
     "output_type": "stream",
     "text": [
      "{1: None, 2: None, 3: None, 4: None, 5: None, 6: None, 7: None, 8: None, 9: None, 10: None, 11: None, 12: None, 13: None, 14: None, 15: None, 16: None, 17: None, 18: None, 19: None, 20: None}\n",
      "{1: {'categories': ['alt', 'atheism'], 'config_name': '19997_alt.atheism'}, 2: {'categories': ['comp', 'graphics'], 'config_name': '19997_comp.graphics'}, 3: {'categories': ['comp', 'os', 'ms-windows', 'misc'], 'config_name': '19997_comp.os.ms-windows.misc'}, 4: {'categories': ['comp', 'sys', 'ibm', 'pc', 'hardware'], 'config_name': '19997_comp.sys.ibm.pc.hardware'}, 5: {'categories': ['comp', 'sys', 'mac', 'hardware'], 'config_name': '19997_comp.sys.mac.hardware'}, 6: {'categories': ['comp', 'windows', 'x'], 'config_name': '19997_comp.windows.x'}, 7: {'categories': ['misc', 'forsale'], 'config_name': '19997_misc.forsale'}, 8: {'categories': ['rec', 'autos'], 'config_name': '19997_rec.autos'}, 9: {'categories': ['rec', 'motorcycles'], 'config_name': '19997_rec.motorcycles'}, 10: {'categories': ['rec', 'sport', 'baseball'], 'config_name': '19997_rec.sport.baseball'}, 11: {'categories': ['rec', 'sport', 'hockey'], 'config_name': '19997_rec.sport.hockey'}, 12: {'categories': ['sci', 'crypt'], 'config_name': '19997_sci.crypt'}, 13: {'categories': ['sci', 'electronics'], 'config_name': '19997_sci.electronics'}, 14: {'categories': ['sci', 'med'], 'config_name': '19997_sci.med'}, 15: {'categories': ['sci', 'space'], 'config_name': '19997_sci.space'}, 16: {'categories': ['soc', 'religion', 'christian'], 'config_name': '19997_soc.religion.christian'}, 17: {'categories': ['talk', 'politics', 'guns'], 'config_name': '19997_talk.politics.guns'}, 18: {'categories': ['talk', 'politics', 'mideast'], 'config_name': '19997_talk.politics.mideast'}, 19: {'categories': ['talk', 'politics', 'misc'], 'config_name': '19997_talk.politics.misc'}, 20: {'categories': ['talk', 'religion', 'misc'], 'config_name': '19997_talk.religion.misc'}}\n"
     ]
    }
   ],
   "source": [
    "\n",
    "newsgroup_configs = get_dataset_config_names(\"newsgroup\")\n",
    "newsgroup_configs = [x for x in newsgroup_configs if x.startswith('19997')]\n",
    "# print((newsgroup_configs))\n",
    "\n",
    "metadata = dict.fromkeys(range(1,21))\n",
    "print(metadata)\n",
    "\n",
    "\n",
    "for i, d in enumerate(newsgroup_configs):\n",
    "    categories = d[6:].split('.')\n",
    "    config_name = d\n",
    "    metadata[i + 1] = {'categories': categories, 'config_name': config_name}\n",
    "# dataset_builder = load_dataset_builder('newsgroup', '18828_alt.atheism')\n",
    "# print(dataset_builder.info.features)\n",
    "\n",
    "print(metadata)"
   ]
  },
  {
   "cell_type": "code",
   "execution_count": 24,
   "metadata": {},
   "outputs": [
    {
     "name": "stdout",
     "output_type": "stream",
     "text": [
      "Downloading and preparing dataset newsgroups/19997_alt.atheism (download: 16.53 MiB, generated: 2.44 MiB, post-processed: Unknown size, total: 18.97 MiB) to /home/gitpod/.cache/huggingface/datasets/newsgroups/19997_alt.atheism/1.0.0/6bd488abf01031de3388f1985d075f079a7132de6f39adff3d7abe04d797ef8a...\n"
     ]
    },
    {
     "data": {
      "application/vnd.jupyter.widget-view+json": {
       "model_id": "46a54554726a47279050cf548c5dbbe6",
       "version_major": 2,
       "version_minor": 0
      },
      "text/plain": [
       "Downloading:   0%|          | 0.00/17.3M [00:00<?, ?B/s]"
      ]
     },
     "metadata": {},
     "output_type": "display_data"
    },
    {
     "data": {
      "application/vnd.jupyter.widget-view+json": {
       "model_id": "b4477cfc4d4d4c70876f90411700f2d6",
       "version_major": 2,
       "version_minor": 0
      },
      "text/plain": [
       "0 examples [00:00, ? examples/s]"
      ]
     },
     "metadata": {},
     "output_type": "display_data"
    },
    {
     "name": "stdout",
     "output_type": "stream",
     "text": [
      "Dataset newsgroups downloaded and prepared to /home/gitpod/.cache/huggingface/datasets/newsgroups/19997_alt.atheism/1.0.0/6bd488abf01031de3388f1985d075f079a7132de6f39adff3d7abe04d797ef8a. Subsequent calls will reuse this data.\n"
     ]
    },
    {
     "data": {
      "application/vnd.jupyter.widget-view+json": {
       "model_id": "e761a14f3a984725a037927a7e03be5e",
       "version_major": 2,
       "version_minor": 0
      },
      "text/plain": [
       "  0%|          | 0/1 [00:00<?, ?it/s]"
      ]
     },
     "metadata": {},
     "output_type": "display_data"
    },
    {
     "name": "stdout",
     "output_type": "stream",
     "text": [
      "Downloading and preparing dataset newsgroups/19997_comp.graphics (download: 16.53 MiB, generated: 2.08 MiB, post-processed: Unknown size, total: 18.61 MiB) to /home/gitpod/.cache/huggingface/datasets/newsgroups/19997_comp.graphics/1.0.0/6bd488abf01031de3388f1985d075f079a7132de6f39adff3d7abe04d797ef8a...\n"
     ]
    },
    {
     "data": {
      "application/vnd.jupyter.widget-view+json": {
       "model_id": "3f5a41c56d604e6eb4e3d2608b3018f7",
       "version_major": 2,
       "version_minor": 0
      },
      "text/plain": [
       "0 examples [00:00, ? examples/s]"
      ]
     },
     "metadata": {},
     "output_type": "display_data"
    },
    {
     "name": "stdout",
     "output_type": "stream",
     "text": [
      "Dataset newsgroups downloaded and prepared to /home/gitpod/.cache/huggingface/datasets/newsgroups/19997_comp.graphics/1.0.0/6bd488abf01031de3388f1985d075f079a7132de6f39adff3d7abe04d797ef8a. Subsequent calls will reuse this data.\n"
     ]
    },
    {
     "data": {
      "application/vnd.jupyter.widget-view+json": {
       "model_id": "21f62a110e29483aa0f0373a7ad097f6",
       "version_major": 2,
       "version_minor": 0
      },
      "text/plain": [
       "  0%|          | 0/1 [00:00<?, ?it/s]"
      ]
     },
     "metadata": {},
     "output_type": "display_data"
    },
    {
     "name": "stdout",
     "output_type": "stream",
     "text": [
      "Downloading and preparing dataset newsgroups/19997_comp.os.ms-windows.misc (download: 16.53 MiB, generated: 2.76 MiB, post-processed: Unknown size, total: 19.29 MiB) to /home/gitpod/.cache/huggingface/datasets/newsgroups/19997_comp.os.ms-windows.misc/1.0.0/6bd488abf01031de3388f1985d075f079a7132de6f39adff3d7abe04d797ef8a...\n"
     ]
    },
    {
     "data": {
      "application/vnd.jupyter.widget-view+json": {
       "model_id": "d72c0ae61a0443abaffb660a1e2acd56",
       "version_major": 2,
       "version_minor": 0
      },
      "text/plain": [
       "0 examples [00:00, ? examples/s]"
      ]
     },
     "metadata": {},
     "output_type": "display_data"
    },
    {
     "name": "stdout",
     "output_type": "stream",
     "text": [
      "Dataset newsgroups downloaded and prepared to /home/gitpod/.cache/huggingface/datasets/newsgroups/19997_comp.os.ms-windows.misc/1.0.0/6bd488abf01031de3388f1985d075f079a7132de6f39adff3d7abe04d797ef8a. Subsequent calls will reuse this data.\n"
     ]
    },
    {
     "data": {
      "application/vnd.jupyter.widget-view+json": {
       "model_id": "44120aeab9e14c5b90bf83fd773d6f27",
       "version_major": 2,
       "version_minor": 0
      },
      "text/plain": [
       "  0%|          | 0/1 [00:00<?, ?it/s]"
      ]
     },
     "metadata": {},
     "output_type": "display_data"
    },
    {
     "name": "stdout",
     "output_type": "stream",
     "text": [
      "Downloading and preparing dataset newsgroups/19997_comp.sys.ibm.pc.hardware (download: 16.53 MiB, generated: 1.59 MiB, post-processed: Unknown size, total: 18.12 MiB) to /home/gitpod/.cache/huggingface/datasets/newsgroups/19997_comp.sys.ibm.pc.hardware/1.0.0/6bd488abf01031de3388f1985d075f079a7132de6f39adff3d7abe04d797ef8a...\n"
     ]
    },
    {
     "data": {
      "application/vnd.jupyter.widget-view+json": {
       "model_id": "2f24a6989bcb40c799c0802141b11546",
       "version_major": 2,
       "version_minor": 0
      },
      "text/plain": [
       "0 examples [00:00, ? examples/s]"
      ]
     },
     "metadata": {},
     "output_type": "display_data"
    },
    {
     "name": "stdout",
     "output_type": "stream",
     "text": [
      "Dataset newsgroups downloaded and prepared to /home/gitpod/.cache/huggingface/datasets/newsgroups/19997_comp.sys.ibm.pc.hardware/1.0.0/6bd488abf01031de3388f1985d075f079a7132de6f39adff3d7abe04d797ef8a. Subsequent calls will reuse this data.\n"
     ]
    },
    {
     "data": {
      "application/vnd.jupyter.widget-view+json": {
       "model_id": "8e8a46f674e548f79599e625da52b98d",
       "version_major": 2,
       "version_minor": 0
      },
      "text/plain": [
       "  0%|          | 0/1 [00:00<?, ?it/s]"
      ]
     },
     "metadata": {},
     "output_type": "display_data"
    },
    {
     "name": "stdout",
     "output_type": "stream",
     "text": [
      "Downloading and preparing dataset newsgroups/19997_comp.sys.mac.hardware (download: 16.53 MiB, generated: 1.51 MiB, post-processed: Unknown size, total: 18.04 MiB) to /home/gitpod/.cache/huggingface/datasets/newsgroups/19997_comp.sys.mac.hardware/1.0.0/6bd488abf01031de3388f1985d075f079a7132de6f39adff3d7abe04d797ef8a...\n"
     ]
    },
    {
     "data": {
      "application/vnd.jupyter.widget-view+json": {
       "model_id": "826460a9418d48eeb3ca03700c4b31f4",
       "version_major": 2,
       "version_minor": 0
      },
      "text/plain": [
       "0 examples [00:00, ? examples/s]"
      ]
     },
     "metadata": {},
     "output_type": "display_data"
    },
    {
     "name": "stdout",
     "output_type": "stream",
     "text": [
      "Dataset newsgroups downloaded and prepared to /home/gitpod/.cache/huggingface/datasets/newsgroups/19997_comp.sys.mac.hardware/1.0.0/6bd488abf01031de3388f1985d075f079a7132de6f39adff3d7abe04d797ef8a. Subsequent calls will reuse this data.\n"
     ]
    },
    {
     "data": {
      "application/vnd.jupyter.widget-view+json": {
       "model_id": "2bf128d8f7eb4b1498d06e2ba7a2fd1c",
       "version_major": 2,
       "version_minor": 0
      },
      "text/plain": [
       "  0%|          | 0/1 [00:00<?, ?it/s]"
      ]
     },
     "metadata": {},
     "output_type": "display_data"
    },
    {
     "name": "stdout",
     "output_type": "stream",
     "text": [
      "Downloading and preparing dataset newsgroups/19997_comp.windows.x (download: 16.53 MiB, generated: 2.31 MiB, post-processed: Unknown size, total: 18.84 MiB) to /home/gitpod/.cache/huggingface/datasets/newsgroups/19997_comp.windows.x/1.0.0/6bd488abf01031de3388f1985d075f079a7132de6f39adff3d7abe04d797ef8a...\n"
     ]
    },
    {
     "data": {
      "application/vnd.jupyter.widget-view+json": {
       "model_id": "5fadd14050ec47d79dc39c26b0a814ee",
       "version_major": 2,
       "version_minor": 0
      },
      "text/plain": [
       "0 examples [00:00, ? examples/s]"
      ]
     },
     "metadata": {},
     "output_type": "display_data"
    },
    {
     "name": "stdout",
     "output_type": "stream",
     "text": [
      "Dataset newsgroups downloaded and prepared to /home/gitpod/.cache/huggingface/datasets/newsgroups/19997_comp.windows.x/1.0.0/6bd488abf01031de3388f1985d075f079a7132de6f39adff3d7abe04d797ef8a. Subsequent calls will reuse this data.\n"
     ]
    },
    {
     "data": {
      "application/vnd.jupyter.widget-view+json": {
       "model_id": "530493a67cdb4d08a464d44e5b327bf8",
       "version_major": 2,
       "version_minor": 0
      },
      "text/plain": [
       "  0%|          | 0/1 [00:00<?, ?it/s]"
      ]
     },
     "metadata": {},
     "output_type": "display_data"
    },
    {
     "name": "stdout",
     "output_type": "stream",
     "text": [
      "Downloading and preparing dataset newsgroups/19997_misc.forsale (download: 16.53 MiB, generated: 1.35 MiB, post-processed: Unknown size, total: 17.88 MiB) to /home/gitpod/.cache/huggingface/datasets/newsgroups/19997_misc.forsale/1.0.0/6bd488abf01031de3388f1985d075f079a7132de6f39adff3d7abe04d797ef8a...\n"
     ]
    },
    {
     "data": {
      "application/vnd.jupyter.widget-view+json": {
       "model_id": "8387f1f28b7745549aed2a52c6a33927",
       "version_major": 2,
       "version_minor": 0
      },
      "text/plain": [
       "0 examples [00:00, ? examples/s]"
      ]
     },
     "metadata": {},
     "output_type": "display_data"
    },
    {
     "name": "stdout",
     "output_type": "stream",
     "text": [
      "Dataset newsgroups downloaded and prepared to /home/gitpod/.cache/huggingface/datasets/newsgroups/19997_misc.forsale/1.0.0/6bd488abf01031de3388f1985d075f079a7132de6f39adff3d7abe04d797ef8a. Subsequent calls will reuse this data.\n"
     ]
    },
    {
     "data": {
      "application/vnd.jupyter.widget-view+json": {
       "model_id": "81c91d3b633f4f4c9be479c7e2a79f9c",
       "version_major": 2,
       "version_minor": 0
      },
      "text/plain": [
       "  0%|          | 0/1 [00:00<?, ?it/s]"
      ]
     },
     "metadata": {},
     "output_type": "display_data"
    },
    {
     "name": "stdout",
     "output_type": "stream",
     "text": [
      "Downloading and preparing dataset newsgroups/19997_rec.autos (download: 16.53 MiB, generated: 1.70 MiB, post-processed: Unknown size, total: 18.23 MiB) to /home/gitpod/.cache/huggingface/datasets/newsgroups/19997_rec.autos/1.0.0/6bd488abf01031de3388f1985d075f079a7132de6f39adff3d7abe04d797ef8a...\n"
     ]
    },
    {
     "data": {
      "application/vnd.jupyter.widget-view+json": {
       "model_id": "7061498d56e349ec9d3cd7ed10026aed",
       "version_major": 2,
       "version_minor": 0
      },
      "text/plain": [
       "0 examples [00:00, ? examples/s]"
      ]
     },
     "metadata": {},
     "output_type": "display_data"
    },
    {
     "name": "stdout",
     "output_type": "stream",
     "text": [
      "Dataset newsgroups downloaded and prepared to /home/gitpod/.cache/huggingface/datasets/newsgroups/19997_rec.autos/1.0.0/6bd488abf01031de3388f1985d075f079a7132de6f39adff3d7abe04d797ef8a. Subsequent calls will reuse this data.\n"
     ]
    },
    {
     "data": {
      "application/vnd.jupyter.widget-view+json": {
       "model_id": "0fbca66dfa7246879ade70d3736bfd91",
       "version_major": 2,
       "version_minor": 0
      },
      "text/plain": [
       "  0%|          | 0/1 [00:00<?, ?it/s]"
      ]
     },
     "metadata": {},
     "output_type": "display_data"
    },
    {
     "name": "stdout",
     "output_type": "stream",
     "text": [
      "Downloading and preparing dataset newsgroups/19997_rec.motorcycles (download: 16.53 MiB, generated: 1.60 MiB, post-processed: Unknown size, total: 18.13 MiB) to /home/gitpod/.cache/huggingface/datasets/newsgroups/19997_rec.motorcycles/1.0.0/6bd488abf01031de3388f1985d075f079a7132de6f39adff3d7abe04d797ef8a...\n"
     ]
    },
    {
     "data": {
      "application/vnd.jupyter.widget-view+json": {
       "model_id": "a334709bf8ee4ddb825b14c7de58c311",
       "version_major": 2,
       "version_minor": 0
      },
      "text/plain": [
       "0 examples [00:00, ? examples/s]"
      ]
     },
     "metadata": {},
     "output_type": "display_data"
    },
    {
     "name": "stdout",
     "output_type": "stream",
     "text": [
      "Dataset newsgroups downloaded and prepared to /home/gitpod/.cache/huggingface/datasets/newsgroups/19997_rec.motorcycles/1.0.0/6bd488abf01031de3388f1985d075f079a7132de6f39adff3d7abe04d797ef8a. Subsequent calls will reuse this data.\n"
     ]
    },
    {
     "data": {
      "application/vnd.jupyter.widget-view+json": {
       "model_id": "e6134a334c6948e8a67eaa1390ed72db",
       "version_major": 2,
       "version_minor": 0
      },
      "text/plain": [
       "  0%|          | 0/1 [00:00<?, ?it/s]"
      ]
     },
     "metadata": {},
     "output_type": "display_data"
    },
    {
     "name": "stdout",
     "output_type": "stream",
     "text": [
      "Downloading and preparing dataset newsgroups/19997_rec.sport.baseball (download: 16.53 MiB, generated: 1.75 MiB, post-processed: Unknown size, total: 18.28 MiB) to /home/gitpod/.cache/huggingface/datasets/newsgroups/19997_rec.sport.baseball/1.0.0/6bd488abf01031de3388f1985d075f079a7132de6f39adff3d7abe04d797ef8a...\n"
     ]
    },
    {
     "data": {
      "application/vnd.jupyter.widget-view+json": {
       "model_id": "a668d9e0952f4e61a620b54c15e7ad7b",
       "version_major": 2,
       "version_minor": 0
      },
      "text/plain": [
       "0 examples [00:00, ? examples/s]"
      ]
     },
     "metadata": {},
     "output_type": "display_data"
    },
    {
     "name": "stdout",
     "output_type": "stream",
     "text": [
      "Dataset newsgroups downloaded and prepared to /home/gitpod/.cache/huggingface/datasets/newsgroups/19997_rec.sport.baseball/1.0.0/6bd488abf01031de3388f1985d075f079a7132de6f39adff3d7abe04d797ef8a. Subsequent calls will reuse this data.\n"
     ]
    },
    {
     "data": {
      "application/vnd.jupyter.widget-view+json": {
       "model_id": "87e3f784df184e5a886c11c640ad201c",
       "version_major": 2,
       "version_minor": 0
      },
      "text/plain": [
       "  0%|          | 0/1 [00:00<?, ?it/s]"
      ]
     },
     "metadata": {},
     "output_type": "display_data"
    },
    {
     "name": "stdout",
     "output_type": "stream",
     "text": [
      "Downloading and preparing dataset newsgroups/19997_rec.sport.hockey (download: 16.53 MiB, generated: 2.11 MiB, post-processed: Unknown size, total: 18.63 MiB) to /home/gitpod/.cache/huggingface/datasets/newsgroups/19997_rec.sport.hockey/1.0.0/6bd488abf01031de3388f1985d075f079a7132de6f39adff3d7abe04d797ef8a...\n"
     ]
    },
    {
     "data": {
      "application/vnd.jupyter.widget-view+json": {
       "model_id": "2a7c434db49e4ed1911f6a43889fdf39",
       "version_major": 2,
       "version_minor": 0
      },
      "text/plain": [
       "0 examples [00:00, ? examples/s]"
      ]
     },
     "metadata": {},
     "output_type": "display_data"
    },
    {
     "name": "stdout",
     "output_type": "stream",
     "text": [
      "Dataset newsgroups downloaded and prepared to /home/gitpod/.cache/huggingface/datasets/newsgroups/19997_rec.sport.hockey/1.0.0/6bd488abf01031de3388f1985d075f079a7132de6f39adff3d7abe04d797ef8a. Subsequent calls will reuse this data.\n"
     ]
    },
    {
     "data": {
      "application/vnd.jupyter.widget-view+json": {
       "model_id": "f2d17b92ad944caba2d5b289c3f06cbc",
       "version_major": 2,
       "version_minor": 0
      },
      "text/plain": [
       "  0%|          | 0/1 [00:00<?, ?it/s]"
      ]
     },
     "metadata": {},
     "output_type": "display_data"
    },
    {
     "name": "stdout",
     "output_type": "stream",
     "text": [
      "Downloading and preparing dataset newsgroups/19997_sci.crypt (download: 16.53 MiB, generated: 2.49 MiB, post-processed: Unknown size, total: 19.02 MiB) to /home/gitpod/.cache/huggingface/datasets/newsgroups/19997_sci.crypt/1.0.0/6bd488abf01031de3388f1985d075f079a7132de6f39adff3d7abe04d797ef8a...\n"
     ]
    },
    {
     "data": {
      "application/vnd.jupyter.widget-view+json": {
       "model_id": "3193e77207a44e6881374e014d14a4ca",
       "version_major": 2,
       "version_minor": 0
      },
      "text/plain": [
       "0 examples [00:00, ? examples/s]"
      ]
     },
     "metadata": {},
     "output_type": "display_data"
    },
    {
     "name": "stdout",
     "output_type": "stream",
     "text": [
      "Dataset newsgroups downloaded and prepared to /home/gitpod/.cache/huggingface/datasets/newsgroups/19997_sci.crypt/1.0.0/6bd488abf01031de3388f1985d075f079a7132de6f39adff3d7abe04d797ef8a. Subsequent calls will reuse this data.\n"
     ]
    },
    {
     "data": {
      "application/vnd.jupyter.widget-view+json": {
       "model_id": "731c29d5f3fd4384808afec9fbd20599",
       "version_major": 2,
       "version_minor": 0
      },
      "text/plain": [
       "  0%|          | 0/1 [00:00<?, ?it/s]"
      ]
     },
     "metadata": {},
     "output_type": "display_data"
    },
    {
     "name": "stdout",
     "output_type": "stream",
     "text": [
      "Downloading and preparing dataset newsgroups/19997_sci.electronics (download: 16.53 MiB, generated: 1.65 MiB, post-processed: Unknown size, total: 18.18 MiB) to /home/gitpod/.cache/huggingface/datasets/newsgroups/19997_sci.electronics/1.0.0/6bd488abf01031de3388f1985d075f079a7132de6f39adff3d7abe04d797ef8a...\n"
     ]
    },
    {
     "data": {
      "application/vnd.jupyter.widget-view+json": {
       "model_id": "3ac547ed21a241efa6605c8a79197180",
       "version_major": 2,
       "version_minor": 0
      },
      "text/plain": [
       "0 examples [00:00, ? examples/s]"
      ]
     },
     "metadata": {},
     "output_type": "display_data"
    },
    {
     "name": "stdout",
     "output_type": "stream",
     "text": [
      "Dataset newsgroups downloaded and prepared to /home/gitpod/.cache/huggingface/datasets/newsgroups/19997_sci.electronics/1.0.0/6bd488abf01031de3388f1985d075f079a7132de6f39adff3d7abe04d797ef8a. Subsequent calls will reuse this data.\n"
     ]
    },
    {
     "data": {
      "application/vnd.jupyter.widget-view+json": {
       "model_id": "c772b2562ae448a28fec0984f3b40c2a",
       "version_major": 2,
       "version_minor": 0
      },
      "text/plain": [
       "  0%|          | 0/1 [00:00<?, ?it/s]"
      ]
     },
     "metadata": {},
     "output_type": "display_data"
    },
    {
     "name": "stdout",
     "output_type": "stream",
     "text": [
      "Downloading and preparing dataset newsgroups/19997_sci.med (download: 16.53 MiB, generated: 2.28 MiB, post-processed: Unknown size, total: 18.81 MiB) to /home/gitpod/.cache/huggingface/datasets/newsgroups/19997_sci.med/1.0.0/6bd488abf01031de3388f1985d075f079a7132de6f39adff3d7abe04d797ef8a...\n"
     ]
    },
    {
     "data": {
      "application/vnd.jupyter.widget-view+json": {
       "model_id": "db74869a0abb45dbaafb80959a4bee5f",
       "version_major": 2,
       "version_minor": 0
      },
      "text/plain": [
       "0 examples [00:00, ? examples/s]"
      ]
     },
     "metadata": {},
     "output_type": "display_data"
    },
    {
     "name": "stdout",
     "output_type": "stream",
     "text": [
      "Dataset newsgroups downloaded and prepared to /home/gitpod/.cache/huggingface/datasets/newsgroups/19997_sci.med/1.0.0/6bd488abf01031de3388f1985d075f079a7132de6f39adff3d7abe04d797ef8a. Subsequent calls will reuse this data.\n"
     ]
    },
    {
     "data": {
      "application/vnd.jupyter.widget-view+json": {
       "model_id": "30105686e75e4d56b8294730d6d8f173",
       "version_major": 2,
       "version_minor": 0
      },
      "text/plain": [
       "  0%|          | 0/1 [00:00<?, ?it/s]"
      ]
     },
     "metadata": {},
     "output_type": "display_data"
    },
    {
     "name": "stdout",
     "output_type": "stream",
     "text": [
      "Downloading and preparing dataset newsgroups/19997_sci.space (download: 16.53 MiB, generated: 2.24 MiB, post-processed: Unknown size, total: 18.77 MiB) to /home/gitpod/.cache/huggingface/datasets/newsgroups/19997_sci.space/1.0.0/6bd488abf01031de3388f1985d075f079a7132de6f39adff3d7abe04d797ef8a...\n"
     ]
    },
    {
     "data": {
      "application/vnd.jupyter.widget-view+json": {
       "model_id": "719433ec23f3484ba96ac463b67c0c77",
       "version_major": 2,
       "version_minor": 0
      },
      "text/plain": [
       "0 examples [00:00, ? examples/s]"
      ]
     },
     "metadata": {},
     "output_type": "display_data"
    },
    {
     "name": "stdout",
     "output_type": "stream",
     "text": [
      "Dataset newsgroups downloaded and prepared to /home/gitpod/.cache/huggingface/datasets/newsgroups/19997_sci.space/1.0.0/6bd488abf01031de3388f1985d075f079a7132de6f39adff3d7abe04d797ef8a. Subsequent calls will reuse this data.\n"
     ]
    },
    {
     "data": {
      "application/vnd.jupyter.widget-view+json": {
       "model_id": "83382e1de45040cd8daa80790dd01f31",
       "version_major": 2,
       "version_minor": 0
      },
      "text/plain": [
       "  0%|          | 0/1 [00:00<?, ?it/s]"
      ]
     },
     "metadata": {},
     "output_type": "display_data"
    },
    {
     "name": "stdout",
     "output_type": "stream",
     "text": [
      "Downloading and preparing dataset newsgroups/19997_soc.religion.christian (download: 16.53 MiB, generated: 2.62 MiB, post-processed: Unknown size, total: 19.15 MiB) to /home/gitpod/.cache/huggingface/datasets/newsgroups/19997_soc.religion.christian/1.0.0/6bd488abf01031de3388f1985d075f079a7132de6f39adff3d7abe04d797ef8a...\n"
     ]
    },
    {
     "data": {
      "application/vnd.jupyter.widget-view+json": {
       "model_id": "1ed54b47dfc144ff90e4530dad5a5a51",
       "version_major": 2,
       "version_minor": 0
      },
      "text/plain": [
       "0 examples [00:00, ? examples/s]"
      ]
     },
     "metadata": {},
     "output_type": "display_data"
    },
    {
     "name": "stdout",
     "output_type": "stream",
     "text": [
      "Dataset newsgroups downloaded and prepared to /home/gitpod/.cache/huggingface/datasets/newsgroups/19997_soc.religion.christian/1.0.0/6bd488abf01031de3388f1985d075f079a7132de6f39adff3d7abe04d797ef8a. Subsequent calls will reuse this data.\n"
     ]
    },
    {
     "data": {
      "application/vnd.jupyter.widget-view+json": {
       "model_id": "89fcf283eb6149028b2128e1cfa1db0a",
       "version_major": 2,
       "version_minor": 0
      },
      "text/plain": [
       "  0%|          | 0/1 [00:00<?, ?it/s]"
      ]
     },
     "metadata": {},
     "output_type": "display_data"
    },
    {
     "name": "stdout",
     "output_type": "stream",
     "text": [
      "Downloading and preparing dataset newsgroups/19997_talk.politics.guns (download: 16.53 MiB, generated: 2.52 MiB, post-processed: Unknown size, total: 19.05 MiB) to /home/gitpod/.cache/huggingface/datasets/newsgroups/19997_talk.politics.guns/1.0.0/6bd488abf01031de3388f1985d075f079a7132de6f39adff3d7abe04d797ef8a...\n"
     ]
    },
    {
     "data": {
      "application/vnd.jupyter.widget-view+json": {
       "model_id": "8124cad86219417eb62533f3a2f8a01a",
       "version_major": 2,
       "version_minor": 0
      },
      "text/plain": [
       "0 examples [00:00, ? examples/s]"
      ]
     },
     "metadata": {},
     "output_type": "display_data"
    },
    {
     "name": "stdout",
     "output_type": "stream",
     "text": [
      "Dataset newsgroups downloaded and prepared to /home/gitpod/.cache/huggingface/datasets/newsgroups/19997_talk.politics.guns/1.0.0/6bd488abf01031de3388f1985d075f079a7132de6f39adff3d7abe04d797ef8a. Subsequent calls will reuse this data.\n"
     ]
    },
    {
     "data": {
      "application/vnd.jupyter.widget-view+json": {
       "model_id": "d09787be13914cc9b544b30f7aae7be3",
       "version_major": 2,
       "version_minor": 0
      },
      "text/plain": [
       "  0%|          | 0/1 [00:00<?, ?it/s]"
      ]
     },
     "metadata": {},
     "output_type": "display_data"
    },
    {
     "name": "stdout",
     "output_type": "stream",
     "text": [
      "Downloading and preparing dataset newsgroups/19997_talk.politics.mideast (download: 16.53 MiB, generated: 3.52 MiB, post-processed: Unknown size, total: 20.05 MiB) to /home/gitpod/.cache/huggingface/datasets/newsgroups/19997_talk.politics.mideast/1.0.0/6bd488abf01031de3388f1985d075f079a7132de6f39adff3d7abe04d797ef8a...\n"
     ]
    },
    {
     "data": {
      "application/vnd.jupyter.widget-view+json": {
       "model_id": "cee992b5d44f461087b53efd938c0ea4",
       "version_major": 2,
       "version_minor": 0
      },
      "text/plain": [
       "0 examples [00:00, ? examples/s]"
      ]
     },
     "metadata": {},
     "output_type": "display_data"
    },
    {
     "name": "stdout",
     "output_type": "stream",
     "text": [
      "Dataset newsgroups downloaded and prepared to /home/gitpod/.cache/huggingface/datasets/newsgroups/19997_talk.politics.mideast/1.0.0/6bd488abf01031de3388f1985d075f079a7132de6f39adff3d7abe04d797ef8a. Subsequent calls will reuse this data.\n"
     ]
    },
    {
     "data": {
      "application/vnd.jupyter.widget-view+json": {
       "model_id": "f1f98a09a9324f4a9b45780c2d713e04",
       "version_major": 2,
       "version_minor": 0
      },
      "text/plain": [
       "  0%|          | 0/1 [00:00<?, ?it/s]"
      ]
     },
     "metadata": {},
     "output_type": "display_data"
    }
   ],
   "source": [
    "data = dict.fromkeys(range(1,21))\n",
    "\n",
    "for i in range(1,21):\n",
    "    data[i] = load_dataset('newsgroup', metadata[i]['config_name'])"
   ]
  },
  {
   "cell_type": "code",
   "execution_count": null,
   "metadata": {},
   "outputs": [],
   "source": []
  }
 ],
 "metadata": {
  "interpreter": {
   "hash": "8b8334dab9339717f727a1deaf837b322d7a41c20d15cc86be99a8e69ceec8ce"
  },
  "kernelspec": {
   "display_name": "Python 3.8.12 64-bit ('3.8.12': pyenv)",
   "name": "python3"
  },
  "language_info": {
   "codemirror_mode": {
    "name": "ipython",
    "version": 3
   },
   "file_extension": ".py",
   "mimetype": "text/x-python",
   "name": "python",
   "nbconvert_exporter": "python",
   "pygments_lexer": "ipython3",
   "version": "3.8.12"
  }
 },
 "nbformat": 4,
 "nbformat_minor": 5
}
